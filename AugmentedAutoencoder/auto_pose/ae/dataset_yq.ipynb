{
 "cells": [
  {
   "cell_type": "code",
   "execution_count": 1,
   "metadata": {},
   "outputs": [],
   "source": [
    "import numpy as np\n",
    "import time\n",
    "import hashlib\n",
    "import glob\n",
    "import os\n",
    "import progressbar\n",
    "import cv2"
   ]
  },
  {
   "cell_type": "code",
   "execution_count": 2,
   "metadata": {},
   "outputs": [],
   "source": [
    "from auto_pose.ae.pysixd_stuff import transform\n",
    "from auto_pose.ae.pysixd_stuff import view_sampler\n",
    "from auto_pose.ae.utils import lazy_property"
   ]
  },
  {
   "cell_type": "code",
   "execution_count": null,
   "metadata": {},
   "outputs": [],
   "source": [
    "class Dataset(object):\n",
    "    \n",
    "    def __init__(self, dataset_path, **kw):\n",
    "        self.shape = (int(kw['h']), int(kw['w']), int(kw['c']))\n",
    "        self.noof_training_imgs = int(kw['noof_training_imgs'])\n",
    "        self.dataset_path = dataset_path\n",
    "        \n",
    "        self.bg_img_paths = glob.glob(kw['background_images_glob'])\n",
    "        self.noof_bg_imgs = min(int(kw['noof_bg_imgs']), len(self.bg_img_paths))\n",
    "        \n",
    "        self._kw = kw\n",
    "        # self._aug = eval(self._kw['code'])\n",
    "\n",
    "        self.train_x = np.empty( (self.noof_training_imgs,) + self.shape, dtype=np.uint8 )\n",
    "        self.mask_x = np.empty( (self.noof_training_imgs,) + self.shape[:2], dtype= bool)\n",
    "        self.noof_obj_pixels = np.empty( (self.noof_training_imgs,), dtype= bool)\n",
    "        self.train_y = np.empty( (self.noof_training_imgs,) + self.shape, dtype=np.uint8 )\n",
    "        self.bg_imgs = np.empty( (self.noof_bg_imgs,) + self.shape, dtype=np.uint8 )\n",
    "        if np.float(eval(self._kw['realistic_occlusion'])):\n",
    "            self.random_syn_masks"
   ]
  }
 ],
 "metadata": {
  "kernelspec": {
   "display_name": "Python 3",
   "language": "python",
   "name": "python3"
  },
  "language_info": {
   "codemirror_mode": {
    "name": "ipython",
    "version": 2
   },
   "file_extension": ".py",
   "mimetype": "text/x-python",
   "name": "python",
   "nbconvert_exporter": "python",
   "pygments_lexer": "ipython2",
   "version": "2.7.16"
  }
 },
 "nbformat": 4,
 "nbformat_minor": 2
}
