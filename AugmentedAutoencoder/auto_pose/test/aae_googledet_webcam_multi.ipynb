{
 "cells": [
  {
   "cell_type": "code",
   "execution_count": 1,
   "metadata": {},
   "outputs": [],
   "source": [
    "import cv2\n",
    "import tensorflow as tf\n",
    "import numpy as np\n",
    "import glob\n",
    "import imageio\n",
    "import os\n",
    "import sys\n",
    "import configparser\n",
    "import re\n",
    "import time"
   ]
  },
  {
   "cell_type": "code",
   "execution_count": 2,
   "metadata": {},
   "outputs": [
    {
     "name": "stdout",
     "output_type": "stream",
     "text": [
      "using glfw\n"
     ]
    }
   ],
   "source": [
    "from auto_pose.meshrenderer import meshrenderer_phong\n",
    "from auto_pose.ae.pysixd_stuff import misc\n",
    "\n",
    "from auto_pose.ae import factory, utils"
   ]
  },
  {
   "cell_type": "code",
   "execution_count": 3,
   "metadata": {},
   "outputs": [],
   "source": [
    "import argparse\n",
    "\n",
    "import copy\n",
    "import yaml\n",
    "import tarfile\n",
    "import six.moves.urllib as urllib\n",
    "from tensorflow.core.framework import graph_pb2"
   ]
  },
  {
   "cell_type": "code",
   "execution_count": 4,
   "metadata": {},
   "outputs": [],
   "source": [
    "from auto_pose.test.googledet_utils import label_map_util\n",
    "from auto_pose.test.googledet_utils.helper import FPS2, WebcamVideoStream, SessionWorker\n",
    "\n",
    "import time"
   ]
  },
  {
   "cell_type": "code",
   "execution_count": 6,
   "metadata": {},
   "outputs": [
    {
     "ename": "SyntaxError",
     "evalue": "invalid syntax (<ipython-input-6-0ca13fd55ba0>, line 36)",
     "output_type": "error",
     "traceback": [
      "\u001b[0;36m  File \u001b[0;32m\"<ipython-input-6-0ca13fd55ba0>\"\u001b[0;36m, line \u001b[0;32m36\u001b[0m\n\u001b[0;31m    expand =\u001b[0m\n\u001b[0m             ^\u001b[0m\n\u001b[0;31mSyntaxError\u001b[0m\u001b[0;31m:\u001b[0m invalid syntax\n"
     ]
    }
   ],
   "source": [
    "# helper function for split mode\n",
    "def _node_name(n):\n",
    "    if n.startswith(\"^\"):\n",
    "        return n[1:]\n",
    "    else:\n",
    "        return n.split(\":\")[0]\n",
    "    \n",
    "# Load a (frozen) Tensorflow model into memory.\n",
    "def load_frozenmodel():\n",
    "    print('> Loading frozen model into memory')\n",
    "    config = tf.ConfigProto(allow_soft_placement=True, log_device_placement=log_device)\n",
    "    config.gpu_options.allow_growth=allow_memorty_growth\n",
    "    config.gpu_options.per_process_gpus_memory_fraction = 0.5 ###Jetson only\n",
    "    if not split_model:\n",
    "        detection_graph = tf.Graph()\n",
    "        with detection_graph.as_default():\n",
    "            od_graph_def = tf.GraphDef()\n",
    "            with tf.gfile.GFile(model_path, 'rb') as fid:\n",
    "                serialized_graph = fid.read()\n",
    "                od_graph_def.ParseFromString(serialized_graph)\n",
    "                tf.import_graph_def(od_graph_def, name='')\n",
    "        return detection_graph, None, None\n",
    "    \n",
    "    else:\n",
    "        # load a frozen Model and split it into GPU and CPU graphs\n",
    "        # Hardcoded for ssd_mobilenet\n",
    "        input_graph = tf.Graph()\n",
    "        with tf.Session(graph=input_graph, config=config):\n",
    "            if ssd_shape == 600:\n",
    "                shape = 7326\n",
    "                print 'ssd_shape = 600 :('\n",
    "                exit()\n",
    "            else:\n",
    "                shape = 1917\n",
    "            score = tf.placeholder(tf.float32, shape=(None, shape, num_classes), \\\n",
    "                                   name=\"Postprocessor/convert_scores\")\n",
    "            expand = \n",
    "            \n",
    "            for node in input_graph.as_graph_def().node:\n",
    "                if node.name =\n",
    "                if node.name\n",
    "                \n",
    "        detection_graph = tf.Graph()\n",
    "        with detection_graph.as_default():\n",
    "            "
   ]
  },
  {
   "cell_type": "markdown",
   "metadata": {},
   "source": [
    "## Load Config Params"
   ]
  },
  {
   "cell_type": "code",
   "execution_count": 9,
   "metadata": {},
   "outputs": [
    {
     "ename": "SyntaxError",
     "evalue": "invalid syntax (<ipython-input-9-31dec6c1f21f>, line 27)",
     "output_type": "error",
     "traceback": [
      "\u001b[0;36m  File \u001b[0;32m\"<ipython-input-9-31dec6c1f21f>\"\u001b[0;36m, line \u001b[0;32m27\u001b[0m\n\u001b[0;31m    __init__(self):\u001b[0m\n\u001b[0m                  ^\u001b[0m\n\u001b[0;31mSyntaxError\u001b[0m\u001b[0;31m:\u001b[0m invalid syntax\n"
     ]
    }
   ],
   "source": [
    "## LOAD CONFIG PARAMS ##\n",
    "try:\n",
    "    with open(\"/home/yq/Data/23_pose_estimation/aae/AugmentedAutoencoder/auto_pose/test/googledet_utils/googledet_config.yml\", 'r') as ymlfile:\n",
    "        cfg = yaml.load(ymlfile)\n",
    "except:\n",
    "    print 'no config file found'\n",
    "    exit()\n",
    "\n",
    "\n",
    "video_input         = cfg['video_input']\n",
    "visualize           = cfg['visualize']\n",
    "vis_text            = cfg['vis_text']\n",
    "width               = cfg['width']\n",
    "height              = cfg['height']\n",
    "fps_interval        = cfg['fps_interval']\n",
    "allow_memory_growth = cfg['allow_memory_growth']\n",
    "det_th              = cfg['det_th']\n",
    "model_path          = cfg['model_path']\n",
    "label_path          = cfg['label_path']\n",
    "num_classes         = cfg['num_classes']\n",
    "split_model         = cfg['split_model']\n",
    "log_device          = cfg['log_device']\n",
    "ssd_shape           = cfg['ssd_shape']\n",
    "K_test              = cfg['K_test']\n",
    "\n",
    "def Arguments(object):\n",
    "    __init__(self):\n",
    "        pass\n",
    "    \n",
    "arguments = Argument()\n",
    "arguments.down = 1\n",
    "arguments.experiment_names = [\"exp_group/my_autoencoder\"]\n",
    "\n",
    "\n",
    "workspace_path = os.environ.get('AE_WORKSPACE_PATH')\n",
    "if workspace_path == None:\n",
    "    print 'Please define a workspace path:\\n'\n",
    "    print 'export AE_WORKSPACE_PATH=/path/to/workspace\\n'\n",
    "    exit(-1)\n",
    "\n",
    "\n",
    "all_codebooks = []\n",
    "all_train_args = []\n",
    "model_paths = []"
   ]
  },
  {
   "cell_type": "code",
   "execution_count": null,
   "metadata": {},
   "outputs": [],
   "source": []
  },
  {
   "cell_type": "code",
   "execution_count": null,
   "metadata": {},
   "outputs": [],
   "source": []
  },
  {
   "cell_type": "code",
   "execution_count": null,
   "metadata": {},
   "outputs": [],
   "source": []
  },
  {
   "cell_type": "code",
   "execution_count": null,
   "metadata": {},
   "outputs": [],
   "source": []
  },
  {
   "cell_type": "code",
   "execution_count": null,
   "metadata": {},
   "outputs": [],
   "source": []
  },
  {
   "cell_type": "code",
   "execution_count": null,
   "metadata": {},
   "outputs": [],
   "source": []
  },
  {
   "cell_type": "code",
   "execution_count": null,
   "metadata": {},
   "outputs": [],
   "source": []
  },
  {
   "cell_type": "code",
   "execution_count": null,
   "metadata": {},
   "outputs": [],
   "source": []
  },
  {
   "cell_type": "code",
   "execution_count": null,
   "metadata": {},
   "outputs": [],
   "source": []
  },
  {
   "cell_type": "code",
   "execution_count": null,
   "metadata": {},
   "outputs": [],
   "source": []
  },
  {
   "cell_type": "code",
   "execution_count": null,
   "metadata": {},
   "outputs": [],
   "source": []
  },
  {
   "cell_type": "code",
   "execution_count": null,
   "metadata": {},
   "outputs": [],
   "source": []
  },
  {
   "cell_type": "code",
   "execution_count": null,
   "metadata": {},
   "outputs": [],
   "source": []
  },
  {
   "cell_type": "code",
   "execution_count": null,
   "metadata": {},
   "outputs": [],
   "source": []
  },
  {
   "cell_type": "code",
   "execution_count": null,
   "metadata": {},
   "outputs": [],
   "source": []
  },
  {
   "cell_type": "code",
   "execution_count": null,
   "metadata": {},
   "outputs": [],
   "source": []
  },
  {
   "cell_type": "code",
   "execution_count": null,
   "metadata": {},
   "outputs": [],
   "source": []
  },
  {
   "cell_type": "code",
   "execution_count": null,
   "metadata": {},
   "outputs": [],
   "source": []
  },
  {
   "cell_type": "code",
   "execution_count": null,
   "metadata": {},
   "outputs": [],
   "source": []
  },
  {
   "cell_type": "code",
   "execution_count": null,
   "metadata": {},
   "outputs": [],
   "source": []
  },
  {
   "cell_type": "code",
   "execution_count": null,
   "metadata": {},
   "outputs": [],
   "source": []
  },
  {
   "cell_type": "code",
   "execution_count": null,
   "metadata": {},
   "outputs": [],
   "source": []
  },
  {
   "cell_type": "code",
   "execution_count": null,
   "metadata": {},
   "outputs": [],
   "source": []
  },
  {
   "cell_type": "code",
   "execution_count": null,
   "metadata": {},
   "outputs": [],
   "source": []
  },
  {
   "cell_type": "code",
   "execution_count": null,
   "metadata": {},
   "outputs": [],
   "source": []
  },
  {
   "cell_type": "code",
   "execution_count": null,
   "metadata": {},
   "outputs": [],
   "source": []
  },
  {
   "cell_type": "code",
   "execution_count": null,
   "metadata": {},
   "outputs": [],
   "source": []
  },
  {
   "cell_type": "code",
   "execution_count": null,
   "metadata": {},
   "outputs": [],
   "source": []
  }
 ],
 "metadata": {
  "kernelspec": {
   "display_name": "Python 3",
   "language": "python",
   "name": "python3"
  },
  "language_info": {
   "codemirror_mode": {
    "name": "ipython",
    "version": 2
   },
   "file_extension": ".py",
   "mimetype": "text/x-python",
   "name": "python",
   "nbconvert_exporter": "python",
   "pygments_lexer": "ipython2",
   "version": "2.7.16"
  }
 },
 "nbformat": 4,
 "nbformat_minor": 2
}
